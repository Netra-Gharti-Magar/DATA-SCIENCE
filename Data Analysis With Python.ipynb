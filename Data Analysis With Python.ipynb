{
 "cells": [
  {
   "cell_type": "markdown",
   "id": "02003787",
   "metadata": {},
   "source": [
    "# PART 1 OF 6"
   ]
  },
  {
   "cell_type": "code",
   "execution_count": 1,
   "id": "bf9230ba",
   "metadata": {
    "scrolled": true
   },
   "outputs": [
    {
     "name": "stdout",
     "output_type": "stream",
     "text": [
      "I would like to visit the Ammy's House\n"
     ]
    }
   ],
   "source": [
    "print('I would like to visit the Ammy\\'s House')"
   ]
  },
  {
   "cell_type": "code",
   "execution_count": 2,
   "id": "673e09cc",
   "metadata": {
    "scrolled": true
   },
   "outputs": [
    {
     "name": "stdout",
     "output_type": "stream",
     "text": [
      "Virtually all galaxies appear to have been formed soon after the universe began,\n",
      "and they pervade space, even into the depths of the farthest reaches penetrated\n",
      "by powerful modern telescopes. Galaxies usually exist in clusters, some of which\n",
      "in turn are grouped into larger clusters that measure hundreds of millions of light-years across.\n"
     ]
    }
   ],
   "source": [
    "print('Virtually all galaxies appear to have been formed soon after the universe began,\\nand they pervade space, even into the depths of the farthest reaches penetrated\\nby powerful modern telescopes. Galaxies usually exist in clusters, some of which\\nin turn are grouped into larger clusters that measure hundreds of millions of light-years across.')"
   ]
  },
  {
   "cell_type": "code",
   "execution_count": 3,
   "id": "fe3ca00c",
   "metadata": {},
   "outputs": [
    {
     "name": "stdout",
     "output_type": "stream",
     "text": [
      "\n",
      "Virtually all galaxies appear to have been formed soon after the universe began,\n",
      "and they pervade space, even into the depths of the farthest reaches penetrated\n",
      "by powerful modern telescopes. Galaxies usually exist in clusters, some of which\n",
      "in turn are grouped into larger clusters that measure hundreds of millions of light-years across.\n"
     ]
    }
   ],
   "source": [
    "print('''\n",
    "Virtually all galaxies appear to have been formed soon after the universe began,\n",
    "and they pervade space, even into the depths of the farthest reaches penetrated\n",
    "by powerful modern telescopes. Galaxies usually exist in clusters, some of which\n",
    "in turn are grouped into larger clusters that measure hundreds of millions of light-years across.''')"
   ]
  },
  {
   "cell_type": "code",
   "execution_count": 4,
   "id": "67382ee2",
   "metadata": {},
   "outputs": [
    {
     "name": "stdout",
     "output_type": "stream",
     "text": [
      "The amount for the grocery is 400 and the name of the person is Sagar Thapa.\n"
     ]
    }
   ],
   "source": [
    "a = 400\n",
    "b = 'Sagar'\n",
    "print('The amount for the grocery is',a ,'and the name of the person is', b + ' '+'Thapa.')"
   ]
  },
  {
   "cell_type": "code",
   "execution_count": 5,
   "id": "d753c33d",
   "metadata": {
    "scrolled": true
   },
   "outputs": [
    {
     "name": "stdout",
     "output_type": "stream",
     "text": [
      "The amount for the grocery is 400. And the name of the person is Sagar\n"
     ]
    }
   ],
   "source": [
    "print(f'The amount for the grocery is {a}. And the name of the person is {b}')"
   ]
  },
  {
   "cell_type": "code",
   "execution_count": 6,
   "id": "f6814a4f",
   "metadata": {},
   "outputs": [
    {
     "name": "stdout",
     "output_type": "stream",
     "text": [
      "The amount for the grocerry is 400\n",
      "and the name of the person is Sagar Thapa.\n",
      "\n"
     ]
    }
   ],
   "source": [
    "output_template = '''The amount for the grocerry is {}\n",
    "and the name of the person is {}.\n",
    "'''\n",
    "\n",
    "print(output_template.format(a,b + ' '+'Thapa'))"
   ]
  },
  {
   "cell_type": "code",
   "execution_count": 7,
   "id": "33d14fd7",
   "metadata": {},
   "outputs": [
    {
     "name": "stdout",
     "output_type": "stream",
     "text": [
      "False\n",
      "True\n",
      "False\n",
      "True\n",
      "False\n",
      "True\n"
     ]
    }
   ],
   "source": [
    "a = 300\n",
    "b = 200\n",
    "c = 200\n",
    "print(a == b)\n",
    "print(a != b)\n",
    "print(a < b)\n",
    "print(a > b)\n",
    "print(a <= b)\n",
    "print(b >= c)"
   ]
  },
  {
   "cell_type": "code",
   "execution_count": 8,
   "id": "2b3bfcf7",
   "metadata": {},
   "outputs": [
    {
     "name": "stdout",
     "output_type": "stream",
     "text": [
      "True\n",
      "False\n",
      "False\n",
      "False\n"
     ]
    }
   ],
   "source": [
    "print (True & True)\n",
    "print (True & False)\n",
    "print (False & True)\n",
    "print (False & False)"
   ]
  },
  {
   "cell_type": "code",
   "execution_count": 9,
   "id": "26a6d934",
   "metadata": {},
   "outputs": [
    {
     "name": "stdout",
     "output_type": "stream",
     "text": [
      "True\n",
      "True\n",
      "True\n",
      "False\n"
     ]
    }
   ],
   "source": [
    "print(True | True)\n",
    "print(True | False)\n",
    "print(False | True)\n",
    "print(False | False)"
   ]
  },
  {
   "cell_type": "markdown",
   "id": "e875d289",
   "metadata": {},
   "source": [
    "* first\n",
    "* Second\n",
    "* Third\n",
    "1. One\n",
    "2. Two\n",
    "3. Three\n",
    "\n",
    "*This is an italic setence.*\n",
    "\n",
    "**This is bold sentence.**\n",
    "\n",
    "***This is bold sentence.***"
   ]
  },
  {
   "cell_type": "markdown",
   "id": "da9bb2d4",
   "metadata": {},
   "source": [
    "&nbsp;Once upon the time\n",
    "\n",
    "&ensp;Once upon the time\n",
    "\n",
    "&emsp;Once upon the time\n",
    "\n",
    "&emsp;&emsp;&emsp;&emsp;Once upon the time"
   ]
  },
  {
   "cell_type": "code",
   "execution_count": 10,
   "id": "77850d0a",
   "metadata": {},
   "outputs": [
    {
     "data": {
      "image/jpeg": "[encoded data removed]",
      "text/plain": [
       "<IPython.core.display.Image object>"
      ]
     },
     "execution_count": 10,
     "metadata": {},
     "output_type": "execute_result"
    }
   ],
   "source": [
    "from IPython.display import Image\n",
    "\n",
    "Image(filename='C:\\\\Users\\\\NETRA\\\\Downloads\\\\PYTHON\\\\download.jpg')"
   ]
  },
  {
   "cell_type": "markdown",
   "id": "9a88fd14",
   "metadata": {},
   "source": [
    "## Types of assiging value"
   ]
  },
  {
   "cell_type": "code",
   "execution_count": 11,
   "id": "e6aced45",
   "metadata": {},
   "outputs": [],
   "source": [
    "# 1.\n",
    "a = 'Apple'"
   ]
  },
  {
   "cell_type": "code",
   "execution_count": 12,
   "id": "3da34677",
   "metadata": {},
   "outputs": [],
   "source": [
    "# 2.\n",
    "a = b = c = 'Apple'"
   ]
  },
  {
   "cell_type": "code",
   "execution_count": 13,
   "id": "0f3ceed0",
   "metadata": {},
   "outputs": [],
   "source": [
    "# 3.\n",
    "a,b,c = 'Apple','Mango','Cherry'"
   ]
  },
  {
   "cell_type": "code",
   "execution_count": 14,
   "id": "111b7fde",
   "metadata": {},
   "outputs": [],
   "source": [
    "# 4.\n",
    "a = 'Apple'; b = 'Mango'; c = 'Cherry'"
   ]
  },
  {
   "cell_type": "markdown",
   "id": "353273b1",
   "metadata": {},
   "source": [
    "## Types of data"
   ]
  },
  {
   "cell_type": "code",
   "execution_count": 15,
   "id": "16d84c9c",
   "metadata": {},
   "outputs": [
    {
     "name": "stdout",
     "output_type": "stream",
     "text": [
      "<class 'int'>\n",
      "<class 'str'>\n",
      "<class 'float'>\n",
      "<class 'bool'>\n",
      "<class 'NoneType'>\n"
     ]
    }
   ],
   "source": [
    "a = 456\n",
    "b = 'Ram'\n",
    "c = 23.65\n",
    "d = True\n",
    "e = None\n",
    "print(type(a))\n",
    "print(type(b))\n",
    "print(type(c))\n",
    "print(type(d))\n",
    "print(type(e))"
   ]
  },
  {
   "cell_type": "code",
   "execution_count": 16,
   "id": "746954b4",
   "metadata": {},
   "outputs": [
    {
     "data": {
      "text/plain": [
       "456.0"
      ]
     },
     "execution_count": 16,
     "metadata": {},
     "output_type": "execute_result"
    }
   ],
   "source": [
    "# But we can change the intial data type as our desired, for example:\n",
    "a = float(a)\n",
    "a"
   ]
  },
  {
   "cell_type": "markdown",
   "id": "a50a13b7",
   "metadata": {},
   "source": [
    "**NOTE: The boolean has two values i.e. 'True' and 'False' which is equivalent of 1 and 0 respectively. It means boolean can be executed even in armithematic operation considering it as integer.**"
   ]
  },
  {
   "cell_type": "code",
   "execution_count": 17,
   "id": "3e3bc4c7",
   "metadata": {
    "scrolled": true
   },
   "outputs": [
    {
     "name": "stdout",
     "output_type": "stream",
     "text": [
      "6\n"
     ]
    }
   ],
   "source": [
    "# For example:\n",
    "print(5 + True)"
   ]
  },
  {
   "cell_type": "markdown",
   "id": "cdc4be2a",
   "metadata": {},
   "source": [
    "## Various Functions"
   ]
  },
  {
   "cell_type": "code",
   "execution_count": 18,
   "id": "9dd4c383",
   "metadata": {},
   "outputs": [
    {
     "name": "stdout",
     "output_type": "stream",
     "text": [
      "5\n",
      "Net\n",
      "True\n"
     ]
    }
   ],
   "source": [
    "a = 'Netra'\n",
    "\n",
    "print(len(a)) # Fiding out the length of the value of the varaible\n",
    "\n",
    "print(a[0:3]) # This is slicing\n",
    "print('Net' in a) # Check whether the word 'Net' is in the variable which gives result in boolean"
   ]
  },
  {
   "cell_type": "code",
   "execution_count": 19,
   "id": "df51e1e6",
   "metadata": {},
   "outputs": [
    {
     "name": "stdout",
     "output_type": "stream",
     "text": [
      "netra\n",
      "NETRA\n",
      "Netra\n"
     ]
    }
   ],
   "source": [
    "print(a.lower())\n",
    "print(a.upper())\n",
    "print(a.capitalize())"
   ]
  },
  {
   "cell_type": "code",
   "execution_count": 20,
   "id": "0cafcf90",
   "metadata": {},
   "outputs": [
    {
     "name": "stdout",
     "output_type": "stream",
     "text": [
      "NETRA\n",
      "netra\n",
      "Netra\n"
     ]
    }
   ],
   "source": [
    "# Alternative Way\n",
    "print('Netra'.upper())\n",
    "print('NETRA'.lower())\n",
    "print('netra'.capitalize())"
   ]
  },
  {
   "cell_type": "markdown",
   "id": "8bd0ff6f",
   "metadata": {},
   "source": [
    "# PART 2 OF 6"
   ]
  },
  {
   "cell_type": "code",
   "execution_count": 21,
   "id": "9dd38df3",
   "metadata": {},
   "outputs": [
    {
     "data": {
      "text/plain": [
       "'Monday'"
      ]
     },
     "execution_count": 21,
     "metadata": {},
     "output_type": "execute_result"
    }
   ],
   "source": [
    "# Replace Method\n",
    "day1 = 'Sunday'\n",
    "day2 = day1.replace('Sun','Mon')\n",
    "day2"
   ]
  },
  {
   "cell_type": "code",
   "execution_count": 23,
   "id": "861e0cae",
   "metadata": {},
   "outputs": [
    {
     "name": "stdout",
     "output_type": "stream",
     "text": [
      "Enter first number:10\n",
      "Enter second number:10\n",
      "The number 10 is equal to number 10\n"
     ]
    }
   ],
   "source": [
    "# Input two numbers\n",
    "F = int(input('Enter first number:'))\n",
    "S = int(input('Enter second number:'))\n",
    "if F > S:\n",
    "    print('The number {} is greater than number {}'.format(F,S))\n",
    "elif F == S:\n",
    "    print('The number {} is equal to number {}'.format(F,S))\n",
    "else:\n",
    "    print('The number {} is less than number {}'.format(F,S))"
   ]
  },
  {
   "cell_type": "code",
   "execution_count": 25,
   "id": "34570314",
   "metadata": {},
   "outputs": [
    {
     "name": "stdout",
     "output_type": "stream",
     "text": [
      "Enter a name:netra\n",
      "False\n"
     ]
    }
   ],
   "source": [
    "a = str(input('Enter a name:'))\n",
    "if a == 'Netra':\n",
    "    print (True)\n",
    "else:\n",
    "    print (False)"
   ]
  },
  {
   "cell_type": "markdown",
   "id": "e0bfb3cd",
   "metadata": {},
   "source": [
    "## While loop"
   ]
  },
  {
   "cell_type": "code",
   "execution_count": 29,
   "id": "227ebdb4",
   "metadata": {},
   "outputs": [
    {
     "name": "stdout",
     "output_type": "stream",
     "text": [
      "The total number is 55\n"
     ]
    }
   ],
   "source": [
    "count = 0\n",
    "i = 1\n",
    "while i <= 10:\n",
    "    count = count + i\n",
    "    i = i + 1\n",
    "    \n",
    "print ('The total number is {}'.format(count))"
   ]
  },
  {
   "cell_type": "code",
   "execution_count": 30,
   "id": "bfa9498b",
   "metadata": {},
   "outputs": [
    {
     "data": {
      "text/plain": [
       "55"
      ]
     },
     "execution_count": 30,
     "metadata": {},
     "output_type": "execute_result"
    }
   ],
   "source": [
    "0 + 1 + 2 + 3 + 4 + 5 + 6 + 7 + 8 + 9 + 10"
   ]
  },
  {
   "cell_type": "markdown",
   "id": "fd7362ec",
   "metadata": {},
   "source": [
    "## Break and Continue Statement"
   ]
  },
  {
   "cell_type": "code",
   "execution_count": 18,
   "id": "d0ad422c",
   "metadata": {},
   "outputs": [
    {
     "name": "stdout",
     "output_type": "stream",
     "text": [
      "The break point is 5\n",
      "The sum of numbers from 1 to 10 (excluding 5) is: 10\n"
     ]
    },
    {
     "data": {
      "text/plain": [
       "10"
      ]
     },
     "execution_count": 18,
     "metadata": {},
     "output_type": "execute_result"
    }
   ],
   "source": [
    "output = 0\n",
    "i = 1\n",
    "while i <= 10:\n",
    "    output += i\n",
    "    i += 1\n",
    "    if i == 5:\n",
    "        print('The break point is',i)\n",
    "        break\n",
    "print(\"The sum of numbers from 1 to 10 (excluding 5) is:\", output)\n",
    "1+2+3+4"
   ]
  },
  {
   "cell_type": "code",
   "execution_count": 20,
   "id": "60d122b9",
   "metadata": {},
   "outputs": [
    {
     "name": "stdout",
     "output_type": "stream",
     "text": [
      "The break point is 5\n",
      "The sum of numbers from 1 to 10 (excluding 5) is: 50\n"
     ]
    }
   ],
   "source": [
    "output = 0\n",
    "i = 1\n",
    "\n",
    "while i <= 10:\n",
    "    if i == 5:\n",
    "        print('The break point is',i)\n",
    "        i += 1\n",
    "        continue\n",
    "    output += i\n",
    "    i += 1\n",
    "\n",
    "print(\"The sum of numbers from 1 to 10 (excluding 5) is:\", output)"
   ]
  },
  {
   "cell_type": "markdown",
   "id": "84377a27",
   "metadata": {},
   "source": [
    "## For Loop"
   ]
  },
  {
   "cell_type": "code",
   "execution_count": 1,
   "id": "f78a0b46",
   "metadata": {},
   "outputs": [
    {
     "name": "stdout",
     "output_type": "stream",
     "text": [
      "Here is the days of the week: Sunday\n",
      "Here is the days of the week: Monday\n",
      "Here is the days of the week: Tuesday\n",
      "Here is the days of the week: Wednesday\n",
      "Here is the days of the week: Thursday\n",
      "Here is the days of the week: Friday\n",
      "Here is the days of the week: Saturday\n",
      "N\n",
      "e\n",
      "t\n",
      "r\n",
      "a\n"
     ]
    }
   ],
   "source": [
    "for day in ['Sunday','Monday','Tuesday','Wednesday','Thursday','Friday','Saturday']:\n",
    "    print('Here is the days of the week:',day)\n",
    "    \n",
    "for letter in 'Netra':\n",
    "    print(letter)"
   ]
  },
  {
   "cell_type": "code",
   "execution_count": 2,
   "id": "c45f571f",
   "metadata": {},
   "outputs": [
    {
     "name": "stdout",
     "output_type": "stream",
     "text": [
      "Name : Himal\n",
      "Address : Khaireni\n",
      "Phone no. : 9807473514\n"
     ]
    }
   ],
   "source": [
    "person =  {'Name':'Himal',\n",
    "           'Address':'Khaireni',\n",
    "           'Phone no.':9807473514}\n",
    "\n",
    "for i in person:\n",
    "    print(i,':',person[i])"
   ]
  },
  {
   "cell_type": "code",
   "execution_count": null,
   "id": "52fcef8d",
   "metadata": {},
   "outputs": [],
   "source": [
    "for values in person.values():\n",
    "    print(values)"
   ]
  },
  {
   "cell_type": "code",
   "execution_count": null,
   "id": "f0497231",
   "metadata": {},
   "outputs": [],
   "source": [
    "for keys in person.keys():\n",
    "    print(keys)"
   ]
  },
  {
   "cell_type": "code",
   "execution_count": null,
   "id": "04eef5fb",
   "metadata": {},
   "outputs": [],
   "source": [
    "for key, value in person.items():\n",
    "    print('key:',key,'value:',value)"
   ]
  },
  {
   "cell_type": "code",
   "execution_count": null,
   "id": "6925c3af",
   "metadata": {},
   "outputs": [],
   "source": [
    "for i in range(5):\n",
    "    print(i)\n",
    "print('-----------------------------------------')\n",
    "for j in range(1,5):\n",
    "    print(j)\n",
    "print('-----------------------------------------')\n",
    "for k in range(0,9,2):\n",
    "    print(k)"
   ]
  },
  {
   "cell_type": "code",
   "execution_count": 1,
   "id": "1cb0a544",
   "metadata": {},
   "outputs": [
    {
     "name": "stdout",
     "output_type": "stream",
     "text": [
      "The position at 0 is Sunday\n",
      "The position at 1 is Monday\n",
      "The position at 2 is Tuesday\n",
      "The position at 3 is Wednesday\n",
      "The position at 4 is Thursday\n",
      "The position at 5 is Friday\n",
      "The position at 6 is Saturday\n"
     ]
    }
   ],
   "source": [
    "day = ['Sunday','Monday','Tuesday','Wednesday','Thursday','Friday','Saturday']\n",
    "for i in range(len(day)):\n",
    "    print('The position at {} is {}'.format(i,day[i]))"
   ]
  },
  {
   "cell_type": "markdown",
   "id": "2719f670",
   "metadata": {},
   "source": [
    "## Define function"
   ]
  },
  {
   "cell_type": "code",
   "execution_count": 3,
   "id": "b789e032",
   "metadata": {},
   "outputs": [],
   "source": [
    "def hello():\n",
    "    print('Hi, This is me Netra!')\n",
    "    print('Welcome to our progrma.')"
   ]
  },
  {
   "cell_type": "code",
   "execution_count": 4,
   "id": "b74dab35",
   "metadata": {},
   "outputs": [
    {
     "name": "stdout",
     "output_type": "stream",
     "text": [
      "Hi, This is me Netra!\n",
      "Welcome to our progrma.\n"
     ]
    }
   ],
   "source": [
    "hello()"
   ]
  },
  {
   "cell_type": "code",
   "execution_count": null,
   "id": "acee33a5",
   "metadata": {},
   "outputs": [],
   "source": [
    "# Altrnative method of inputing any number with argument in def function.\n",
    "def hello(name):\n",
    "    print('Hi, This is me {}!'.format(name))\n",
    "    print('Welcome to our program.')"
   ]
  },
  {
   "cell_type": "code",
   "execution_count": null,
   "id": "f0478fa2",
   "metadata": {},
   "outputs": [],
   "source": [
    "hello('Netra')"
   ]
  },
  {
   "cell_type": "code",
   "execution_count": 3,
   "id": "00b929e2",
   "metadata": {},
   "outputs": [],
   "source": [
    "def even(number):\n",
    "    empty = []\n",
    "    for i in number:\n",
    "        if i % 2 == 0:\n",
    "            empty.append(i)\n",
    "    return empty"
   ]
  },
  {
   "cell_type": "code",
   "execution_count": 4,
   "id": "c5f7e681",
   "metadata": {},
   "outputs": [
    {
     "data": {
      "text/plain": [
       "[2, 4, 6, 8, 10]"
      ]
     },
     "execution_count": 4,
     "metadata": {},
     "output_type": "execute_result"
    }
   ],
   "source": [
    "even([1,2,3,4,5,6,7,8,9,10])"
   ]
  },
  {
   "cell_type": "code",
   "execution_count": 5,
   "id": "33b4bdb9",
   "metadata": {},
   "outputs": [],
   "source": [
    "def loan_emi(amount,duration,rate,down_payment):\n",
    "    loan_amount = amount - down_payment\n",
    "    emi = round(loan_amount * rate * ((1 + rate) ** duration) / (((1 + rate) ** duration) - 1))\n",
    "    print('The emi of given amount of {} with the duration of {} is {}'.format(amount,duration,emi))"
   ]
  },
  {
   "cell_type": "code",
   "execution_count": 6,
   "id": "16d645f6",
   "metadata": {},
   "outputs": [
    {
     "name": "stdout",
     "output_type": "stream",
     "text": [
      "The emi of given amount of 1260000.0 with the duration of 96 is 14567\n"
     ]
    }
   ],
   "source": [
    "loan_emi(1.26e6, 8*12, 0.1/12, 3e5)"
   ]
  },
  {
   "cell_type": "code",
   "execution_count": 7,
   "id": "c4ee4324",
   "metadata": {},
   "outputs": [
    {
     "name": "stdout",
     "output_type": "stream",
     "text": [
      "The emi of given amount of 1260000.0 with the duration of 96 is 14567\n"
     ]
    }
   ],
   "source": [
    "loan_emi(\n",
    "amount =1.26e6,\n",
    "down_payment = 3e5,\n",
    "rate =0.1/12,\n",
    "duration = 8 * 12,\n",
    ")"
   ]
  },
  {
   "cell_type": "markdown",
   "id": "8a53a0e8",
   "metadata": {},
   "source": [
    "\n",
    "## Try and Except function:"
   ]
  },
  {
   "cell_type": "code",
   "execution_count": 11,
   "id": "97c86980",
   "metadata": {},
   "outputs": [
    {
     "name": "stdout",
     "output_type": "stream",
     "text": [
      "The calculation is being processed........\n",
      "The calcuation is not completed because you are trying to divisible by zero.\n",
      "None\n"
     ]
    }
   ],
   "source": [
    "try:\n",
    "    print('The calculation is being processed........')\n",
    "    result =  5 / 0\n",
    "except ZeroDivisionError:\n",
    "    print('The calcuation is not completed because you are trying to divisible by zero.')\n",
    "    result = None\n",
    "print(result)"
   ]
  },
  {
   "cell_type": "code",
   "execution_count": 12,
   "id": "cb5d3f14",
   "metadata": {},
   "outputs": [
    {
     "name": "stdout",
     "output_type": "stream",
     "text": [
      "The calculation is being processed........\n",
      "2.5\n"
     ]
    }
   ],
   "source": [
    "try:\n",
    "    print('The calculation is being processed........')\n",
    "    result =  5 / 2\n",
    "except ZeroDivisionError:\n",
    "    print('The calcuation is not completed because you are trying to divisible by zero.')\n",
    "    result = None\n",
    "print(result)"
   ]
  },
  {
   "cell_type": "code",
   "execution_count": null,
   "id": "caf38d6d",
   "metadata": {},
   "outputs": [],
   "source": [
    "# Now let'scalculate the EMI without interest:\n",
    "\n",
    "def loan_emi(amount,duration,rate,down_payment):\n",
    "    '''This function calculates the Equal Monthly Installement (EMI) for a loan.\n",
    "    \n",
    "    Arguments:\n",
    "    Amount = Total amount to be spent (loan + down payment)\n",
    "    Duration = Duration of the loan (in month)\n",
    "    Rate = Rate of inerest (monthly)\n",
    "    Down payment (Optional) = Optional intial payment\n",
    "    '''\n",
    "    \n",
    "    loan_amount = amount - down_payment\n",
    "    try:\n",
    "        emi = round(loan_amount * rate * ((1 + rate) ** duration) / (((1 + rate) ** duration) - 1))\n",
    "    except ZeroDivisionError:\n",
    "        emi = round(loan_amount / duration)\n",
    "    # print('The emi of given amount of {} with the duration of {} is {}'.format(amount,duration,emi))\n",
    "    print(emi)"
   ]
  },
  {
   "cell_type": "code",
   "execution_count": null,
   "id": "bd8805f4",
   "metadata": {},
   "outputs": [],
   "source": [
    "loan_emi(\n",
    "amount =1.26e6,\n",
    "down_payment = 3e5,\n",
    "rate = 0,\n",
    "duration = 8 * 12\n",
    ")"
   ]
  },
  {
   "cell_type": "code",
   "execution_count": null,
   "id": "336e499f",
   "metadata": {},
   "outputs": [],
   "source": [
    "help(loan_emi)"
   ]
  },
  {
   "cell_type": "markdown",
   "id": "7ff7d229",
   "metadata": {},
   "source": [
    "# Part 3 of 6"
   ]
  },
  {
   "cell_type": "code",
   "execution_count": 13,
   "id": "7b13778c",
   "metadata": {},
   "outputs": [
    {
     "data": {
      "text/plain": [
       "'\\nW1 = Temperature\\nw2 = Rainfall\\nW3 = Humidity\\n'"
      ]
     },
     "execution_count": 13,
     "metadata": {},
     "output_type": "execute_result"
    }
   ],
   "source": [
    "w1, w2, w3 = 0.3, 0.2, 0.5\n",
    "\n",
    "'''\n",
    "W1 = Temperature\n",
    "w2 = Rainfall\n",
    "W3 = Humidity\n",
    "'''"
   ]
  },
  {
   "cell_type": "code",
   "execution_count": 14,
   "id": "fa04506d",
   "metadata": {},
   "outputs": [],
   "source": [
    "Butwal_temperature = 73\n",
    "Butwal_Rainfall = 67\n",
    "Butwal_Humidity = 43"
   ]
  },
  {
   "cell_type": "code",
   "execution_count": 15,
   "id": "efe539b2",
   "metadata": {},
   "outputs": [
    {
     "name": "stdout",
     "output_type": "stream",
     "text": [
      "The excepted productivity of Butwal City is 56.8 tons per hector.\n"
     ]
    }
   ],
   "source": [
    "Butwal_productivity = Butwal_temperature * w1 + Butwal_Rainfall * w2 + Butwal_Humidity * w3\n",
    "print('The excepted productivity of Butwal City is {} tons per hector.'.format(Butwal_productivity))"
   ]
  },
  {
   "cell_type": "code",
   "execution_count": 16,
   "id": "01b53617",
   "metadata": {},
   "outputs": [],
   "source": [
    "Butwal = [73,67,43]\n",
    "Illam = [91,88,64]\n",
    "Pokhara = [87,134,58]\n",
    "Birgunj = [102,43,37]\n",
    "Chitwan = [69,96,70]"
   ]
  },
  {
   "cell_type": "code",
   "execution_count": 17,
   "id": "60182224",
   "metadata": {},
   "outputs": [],
   "source": [
    "weights = [w1,w2,w3]"
   ]
  },
  {
   "cell_type": "code",
   "execution_count": 18,
   "id": "85345bce",
   "metadata": {},
   "outputs": [],
   "source": [
    "def productivity(city,average_weighted):\n",
    "    result = 0\n",
    "    for x,w in zip(city,average_weighted):\n",
    "        result += x * w\n",
    "    return result"
   ]
  },
  {
   "cell_type": "code",
   "execution_count": 19,
   "id": "1277ca8e",
   "metadata": {},
   "outputs": [
    {
     "data": {
      "text/plain": [
       "56.8"
      ]
     },
     "execution_count": 19,
     "metadata": {},
     "output_type": "execute_result"
    }
   ],
   "source": [
    "productivity(Butwal,weights)"
   ]
  },
  {
   "cell_type": "markdown",
   "id": "487995db",
   "metadata": {},
   "source": [
    "### Going from python list to Numpy Arrays:"
   ]
  },
  {
   "cell_type": "code",
   "execution_count": null,
   "id": "d0943970",
   "metadata": {},
   "outputs": [],
   "source": [
    "import numpy as np"
   ]
  },
  {
   "cell_type": "code",
   "execution_count": null,
   "id": "ac7c3be4",
   "metadata": {},
   "outputs": [],
   "source": [
    "Butwal = np.array([73,67,43])\n",
    "Weights = np.array([w1,w2,w3])\n",
    "\n",
    "type(Butwal)"
   ]
  },
  {
   "cell_type": "code",
   "execution_count": null,
   "id": "903f63ac",
   "metadata": {},
   "outputs": [],
   "source": [
    "np.dot(Butwal,Weights)"
   ]
  },
  {
   "cell_type": "code",
   "execution_count": null,
   "id": "3edca607",
   "metadata": {},
   "outputs": [],
   "source": [
    "(Butwal * weights).sum()"
   ]
  },
  {
   "cell_type": "code",
   "execution_count": null,
   "id": "c18c5823",
   "metadata": {},
   "outputs": [],
   "source": [
    "arr1 = np.array(list(range(1000000)))\n",
    "arr2 = np.array(list(range(1000000,2000000)))"
   ]
  },
  {
   "cell_type": "code",
   "execution_count": null,
   "id": "c2fb02ab",
   "metadata": {
    "scrolled": true
   },
   "outputs": [],
   "source": [
    "%%time\n",
    "result = 0\n",
    "for i,j in zip(arr1,arr2):\n",
    "    result += i * j\n",
    "result"
   ]
  },
  {
   "cell_type": "code",
   "execution_count": null,
   "id": "57add8eb",
   "metadata": {},
   "outputs": [],
   "source": [
    "%%time\n",
    "np.dot(arr1,arr2)"
   ]
  },
  {
   "cell_type": "markdown",
   "id": "533f40c5",
   "metadata": {},
   "source": [
    "## Multi-dimensinoal Numpy Array"
   ]
  },
  {
   "cell_type": "code",
   "execution_count": null,
   "id": "0de1b2d4",
   "metadata": {},
   "outputs": [],
   "source": [
    "climate_data = np.array([[73,67,43],\n",
    "                        [91,88,64],\n",
    "                        [87,134,58],\n",
    "                        [102,43,37],\n",
    "                        [69,96,70]])\n",
    "# This 2D array!"
   ]
  },
  {
   "cell_type": "code",
   "execution_count": null,
   "id": "862e8943",
   "metadata": {},
   "outputs": [],
   "source": [
    "climate_data"
   ]
  },
  {
   "cell_type": "code",
   "execution_count": null,
   "id": "6c589783",
   "metadata": {},
   "outputs": [],
   "source": [
    "print(climate_data.shape)\n",
    "print(climate_data.dtype)"
   ]
  },
  {
   "cell_type": "code",
   "execution_count": null,
   "id": "70f1577e",
   "metadata": {},
   "outputs": [],
   "source": [
    "weights = np.array([0.3, 0.2, 0.5]) # This is 1D array!\n",
    "print(weights.shape)\n",
    "print(weights.dtype)"
   ]
  },
  {
   "cell_type": "code",
   "execution_count": null,
   "id": "f7d499a3",
   "metadata": {},
   "outputs": [],
   "source": [
    "arr3D = np.array([[[1,2,3],[4,5,6]],\n",
    "                  [[7,8,9],[10,11,12]]])\n",
    "print(arr3D.shape)"
   ]
  },
  {
   "cell_type": "code",
   "execution_count": null,
   "id": "10890ef4",
   "metadata": {},
   "outputs": [],
   "source": [
    "np.matmul(climate_data,weights)"
   ]
  },
  {
   "cell_type": "code",
   "execution_count": null,
   "id": "514afc65",
   "metadata": {},
   "outputs": [],
   "source": [
    "# Alterntive of above calculation:\n",
    "climate_data @ weights"
   ]
  },
  {
   "cell_type": "markdown",
   "id": "3a2a518b",
   "metadata": {},
   "source": [
    "## Working with CSV files:"
   ]
  },
  {
   "cell_type": "code",
   "execution_count": null,
   "id": "903b5e57",
   "metadata": {},
   "outputs": [],
   "source": [
    "climate_data_txt = np.genfromtxt('climate.txt',delimiter=',',skip_header=1)"
   ]
  },
  {
   "cell_type": "code",
   "execution_count": null,
   "id": "4a82ef30",
   "metadata": {
    "scrolled": true
   },
   "outputs": [],
   "source": [
    "climate_data_txt"
   ]
  },
  {
   "cell_type": "code",
   "execution_count": null,
   "id": "62904b9f",
   "metadata": {},
   "outputs": [],
   "source": [
    "creativity = climate_data_txt @ weights\n",
    "creativity"
   ]
  },
  {
   "cell_type": "code",
   "execution_count": null,
   "id": "5d6249b5",
   "metadata": {},
   "outputs": [],
   "source": [
    "creativity.shape"
   ]
  },
  {
   "cell_type": "code",
   "execution_count": null,
   "id": "71d2a44e",
   "metadata": {},
   "outputs": [],
   "source": [
    "climate_result = np.concatenate((climate_data_txt,creativity.reshape(9,1)), axis = 1)"
   ]
  },
  {
   "cell_type": "code",
   "execution_count": null,
   "id": "e972a301",
   "metadata": {},
   "outputs": [],
   "source": [
    "climate_result"
   ]
  },
  {
   "cell_type": "code",
   "execution_count": null,
   "id": "679a390e",
   "metadata": {},
   "outputs": [],
   "source": [
    "np.savetxt ('climate_result_txt',\n",
    "           climate_result,\n",
    "           fmt = '%2.f',\n",
    "           header = 'Temperature,Rainfall,Humidity,Creativity',\n",
    "           comments = '')"
   ]
  },
  {
   "cell_type": "code",
   "execution_count": null,
   "id": "ab19c5f9",
   "metadata": {},
   "outputs": [],
   "source": [
    "arr1 = np.array([[[1,2,3],[4,5,6]],\n",
    "               [[10,11,12],[13,14,15]],\n",
    "               [[19,20,21],[22,23,24]],\n",
    "                [[28,29,30],[31,32,33]]])\n",
    "\n",
    "arr2 = np.array([10,20,30])"
   ]
  },
  {
   "cell_type": "code",
   "execution_count": null,
   "id": "bd37aea5",
   "metadata": {},
   "outputs": [],
   "source": [
    "print(arr1.shape)\n",
    "print(arr2.shape)"
   ]
  },
  {
   "cell_type": "code",
   "execution_count": null,
   "id": "95edb3f5",
   "metadata": {},
   "outputs": [],
   "source": [
    "arr1 + arr2"
   ]
  },
  {
   "cell_type": "code",
   "execution_count": null,
   "id": "5a6dd167",
   "metadata": {},
   "outputs": [],
   "source": [
    "arr3 = np.array([[1,2,3],[4,5,6]])\n",
    "arr4 = np.array([[7,8,3],[9,10,6]])"
   ]
  },
  {
   "cell_type": "code",
   "execution_count": null,
   "id": "8de9e282",
   "metadata": {},
   "outputs": [],
   "source": [
    "arr3 == arr4"
   ]
  },
  {
   "cell_type": "code",
   "execution_count": null,
   "id": "db3a0c94",
   "metadata": {},
   "outputs": [],
   "source": [
    "arr3 != arr4"
   ]
  },
  {
   "cell_type": "code",
   "execution_count": null,
   "id": "df5602f8",
   "metadata": {},
   "outputs": [],
   "source": [
    "arr1"
   ]
  },
  {
   "cell_type": "code",
   "execution_count": null,
   "id": "b4564090",
   "metadata": {},
   "outputs": [],
   "source": [
    "arr1[3,0,2]"
   ]
  },
  {
   "cell_type": "code",
   "execution_count": null,
   "id": "5736208c",
   "metadata": {},
   "outputs": [],
   "source": [
    "arr1[2:]"
   ]
  },
  {
   "cell_type": "code",
   "execution_count": null,
   "id": "01f5d6af",
   "metadata": {},
   "outputs": [],
   "source": [
    "arr1[2:,:1]"
   ]
  },
  {
   "cell_type": "code",
   "execution_count": null,
   "id": "656fd887",
   "metadata": {},
   "outputs": [],
   "source": [
    "arr1[2:,:1,0:2]"
   ]
  },
  {
   "cell_type": "markdown",
   "id": "aed2b1b8",
   "metadata": {},
   "source": [
    "## Other ways o creating Numpy arrays:"
   ]
  },
  {
   "cell_type": "code",
   "execution_count": null,
   "id": "2cc55ca0",
   "metadata": {},
   "outputs": [],
   "source": [
    "# All zeors:\n",
    "np.zeros((3,2))"
   ]
  },
  {
   "cell_type": "code",
   "execution_count": null,
   "id": "85e55884",
   "metadata": {},
   "outputs": [],
   "source": [
    "# All ones:\n",
    "np.ones((2,2,3))"
   ]
  },
  {
   "cell_type": "code",
   "execution_count": null,
   "id": "6c7ec45a",
   "metadata": {},
   "outputs": [],
   "source": [
    "# Identity matrix: (Diagonal ones matrix)\n",
    "np.eye(3)"
   ]
  },
  {
   "cell_type": "code",
   "execution_count": null,
   "id": "91bf8744",
   "metadata": {},
   "outputs": [],
   "source": [
    "# Random vector:\n",
    "np.random.rand(3,2)"
   ]
  },
  {
   "cell_type": "code",
   "execution_count": null,
   "id": "457a584b",
   "metadata": {},
   "outputs": [],
   "source": [
    "np.random.randn(3,2) # It gives random number based on Gaussian probability distribution:----"
   ]
  },
  {
   "cell_type": "code",
   "execution_count": null,
   "id": "4efc68a5",
   "metadata": {},
   "outputs": [],
   "source": [
    "# FIxed value\n",
    "np.full((2,3),7)"
   ]
  },
  {
   "cell_type": "code",
   "execution_count": null,
   "id": "a1b159b1",
   "metadata": {},
   "outputs": [],
   "source": [
    "# Range with start,end and steps:\n",
    "np.arange(1,11,2)"
   ]
  },
  {
   "cell_type": "code",
   "execution_count": null,
   "id": "247696e9",
   "metadata": {},
   "outputs": [],
   "source": [
    "# Equally spaced number in range:\n",
    "np.linspace(5,30,6)"
   ]
  },
  {
   "cell_type": "code",
   "execution_count": null,
   "id": "7600ea27",
   "metadata": {},
   "outputs": [],
   "source": [
    "np.linspace(5,30,6).reshape(2,3)"
   ]
  },
  {
   "cell_type": "markdown",
   "id": "e2d0c2b3",
   "metadata": {},
   "source": [
    "## Interacting with the OS and file system"
   ]
  },
  {
   "cell_type": "code",
   "execution_count": null,
   "id": "34fe9d72",
   "metadata": {},
   "outputs": [],
   "source": [
    "import os"
   ]
  },
  {
   "cell_type": "code",
   "execution_count": null,
   "id": "1ef002b8",
   "metadata": {},
   "outputs": [],
   "source": [
    "os.getcwd"
   ]
  },
  {
   "cell_type": "code",
   "execution_count": null,
   "id": "86e485c6",
   "metadata": {},
   "outputs": [],
   "source": [
    "os.listdir('.') # RELATIVE PATH"
   ]
  },
  {
   "cell_type": "code",
   "execution_count": null,
   "id": "e4306238",
   "metadata": {},
   "outputs": [],
   "source": [
    "os.listdir('DATA') # ABSOLUTE PATH"
   ]
  },
  {
   "cell_type": "code",
   "execution_count": null,
   "id": "1dde5866",
   "metadata": {},
   "outputs": [],
   "source": [
    "os.listdir('DATA/TEXT DATA') # ABSOLUTE PATH"
   ]
  },
  {
   "cell_type": "code",
   "execution_count": null,
   "id": "711f9666",
   "metadata": {},
   "outputs": [],
   "source": [
    "os.makedirs('EXAMPLE',exist_ok=True)"
   ]
  },
  {
   "cell_type": "code",
   "execution_count": null,
   "id": "fa136690",
   "metadata": {},
   "outputs": [],
   "source": [
    "'EXAMPLE' in os.listdir('.')"
   ]
  },
  {
   "cell_type": "code",
   "execution_count": null,
   "id": "5add9947",
   "metadata": {},
   "outputs": [],
   "source": [
    "os.listdir('.')"
   ]
  },
  {
   "cell_type": "code",
   "execution_count": null,
   "id": "87e35c73",
   "metadata": {},
   "outputs": [],
   "source": [
    "import urllib.request"
   ]
  },
  {
   "cell_type": "code",
   "execution_count": null,
   "id": "b02c201f",
   "metadata": {},
   "outputs": [],
   "source": [
    "# To fetch data from online and keep the data inside the folder of data with name SomeFile.txt\n",
    "req ='http://www.myhost.com/SomeFile.txt'\n",
    "urllib.request.urlretrieve(req,'./data/SomeFile.txt')"
   ]
  },
  {
   "cell_type": "code",
   "execution_count": null,
   "id": "c0e35359",
   "metadata": {},
   "outputs": [],
   "source": [
    "file1 = open('./DATA/TEXT DATA/climate.txt', mode = 'r')"
   ]
  },
  {
   "cell_type": "code",
   "execution_count": null,
   "id": "85f6e4e0",
   "metadata": {},
   "outputs": [],
   "source": [
    "print(file1.read())"
   ]
  },
  {
   "cell_type": "code",
   "execution_count": null,
   "id": "1859f23e",
   "metadata": {},
   "outputs": [],
   "source": [
    "file1.close()"
   ]
  },
  {
   "cell_type": "code",
   "execution_count": null,
   "id": "ab34db15",
   "metadata": {},
   "outputs": [],
   "source": [
    "# closing files automatically using with\n",
    "\n",
    "\n",
    "with open('./DATA/TEXT DATA/climate.txt','r') as file2:\n",
    "    print(file2.read())"
   ]
  },
  {
   "cell_type": "markdown",
   "id": "0d5bef08",
   "metadata": {},
   "source": [
    "**Read a file line by line**"
   ]
  },
  {
   "cell_type": "code",
   "execution_count": null,
   "id": "78863491",
   "metadata": {},
   "outputs": [],
   "source": [
    "with open('./DATA/TEXT DATA/climate.txt','r') as file2:\n",
    "    file_for_no_print = file2.readlines()\n",
    "\n",
    "file_for_no_print"
   ]
  },
  {
   "cell_type": "code",
   "execution_count": null,
   "id": "db8aa3f5",
   "metadata": {},
   "outputs": [],
   "source": [
    "  file_for_no_print[0]"
   ]
  },
  {
   "cell_type": "code",
   "execution_count": null,
   "id": "a04f202f",
   "metadata": {},
   "outputs": [],
   "source": [
    "  file_for_no_print[0].strip()"
   ]
  },
  {
   "cell_type": "code",
   "execution_count": null,
   "id": "aa58b19e",
   "metadata": {},
   "outputs": [],
   "source": [
    "'100.00,5.00,5.00,50.00'.split(',')"
   ]
  },
  {
   "cell_type": "code",
   "execution_count": null,
   "id": "1faa49ba",
   "metadata": {},
   "outputs": [],
   "source": [
    "yields1  = [{'amount':100.00,'duration':5.00,'rate':5.00,'down_payment':50.00},\n",
    "            {'amount':100.00,'duration':5.00,'rate':5.00,'down_payment':50.00},\n",
    "            {'amount':100.00,'duration':5.00,'rate':5.00,'down_payment':50.0}]"
   ]
  },
  {
   "cell_type": "code",
   "execution_count": null,
   "id": "529be075",
   "metadata": {},
   "outputs": [],
   "source": [
    "def parse_headers(header_line):\n",
    "    return header_line.strip().split(',')"
   ]
  },
  {
   "cell_type": "code",
   "execution_count": null,
   "id": "f6358c79",
   "metadata": {},
   "outputs": [],
   "source": [
    "headers = parse_headers(file_for_no_print[0])\n",
    "headers"
   ]
  },
  {
   "cell_type": "code",
   "execution_count": null,
   "id": "f461d4ce",
   "metadata": {},
   "outputs": [],
   "source": [
    "def parse_values(data_line):\n",
    "    values = []\n",
    "    for item in data_line.strip().split(','):\n",
    "        values.append(float(item))\n",
    "    return values"
   ]
  },
  {
   "cell_type": "code",
   "execution_count": null,
   "id": "0808df49",
   "metadata": {},
   "outputs": [],
   "source": [
    "parse_values(file_for_no_print[1])"
   ]
  },
  {
   "cell_type": "code",
   "execution_count": null,
   "id": "c76880be",
   "metadata": {},
   "outputs": [],
   "source": [
    "'''\n",
    "Our data does not have empty box which means the filled numbers are easy to convert into float.\n",
    "But what if empty box need to change into float number: here is the code:\n",
    "''' \n",
    "def parse_values(data_line):\n",
    "    values = []\n",
    "    for item in data_line.strip().split(','):\n",
    "        if item == '':\n",
    "            values.append(0.0)\n",
    "        else:\n",
    "            values.append(float(item))\n",
    "    return values"
   ]
  },
  {
   "cell_type": "code",
   "execution_count": null,
   "id": "9a715bfd",
   "metadata": {},
   "outputs": [],
   "source": [
    "parse_values(file_for_no_print[2])"
   ]
  },
  {
   "cell_type": "code",
   "execution_count": null,
   "id": "0e81647e",
   "metadata": {},
   "outputs": [],
   "source": [
    "def create_item_dict(values,headers):\n",
    "    result = {}\n",
    "    for i,j in zip(values,headers):\n",
    "        result[j] = i\n",
    "    return result"
   ]
  },
  {
   "cell_type": "code",
   "execution_count": null,
   "id": "3756e7b8",
   "metadata": {},
   "outputs": [],
   "source": [
    "create_item_dict(parse_values(file_for_no_print[1]),parse_headers(file_for_no_print[0]))"
   ]
  },
  {
   "cell_type": "code",
   "execution_count": null,
   "id": "43a2af06",
   "metadata": {},
   "outputs": [],
   "source": [
    "def read_csv(path):\n",
    "    result = []\n",
    "    \n",
    "    # Open file in read mode\n",
    "    with open(path,'r') as f:\n",
    "        \n",
    "        # Get a list of lines\n",
    "        lines = f.readlines()\n",
    "        \n",
    "        # Pharse the headers\n",
    "        headers = parse_headers(lines[0])\n",
    "        \n",
    "        # Loop over the remiainng lines\n",
    "        for data_line in lines[1:]:\n",
    "            \n",
    "            # Pharse the values\n",
    "            values = parse_values(data_line)\n",
    "            \n",
    "            # Create a dictionary using values and headers\n",
    "            item_dict = create_item_dict(values,headers)\n",
    "            \n",
    "            #Add the dicitonary to the result\n",
    "            result.append(item_dict)\n",
    "            \n",
    "    return result"
   ]
  },
  {
   "cell_type": "markdown",
   "id": "42418796",
   "metadata": {},
   "source": [
    "Let's try it Out"
   ]
  },
  {
   "cell_type": "code",
   "execution_count": null,
   "id": "8c3715a5",
   "metadata": {},
   "outputs": [],
   "source": [
    "with open('./DATA/TEXT DATA/climate.txt') as file2:\n",
    "    print(file2.read())"
   ]
  },
  {
   "cell_type": "code",
   "execution_count": null,
   "id": "2453317a",
   "metadata": {},
   "outputs": [],
   "source": [
    "read_csv('./DATA/TEXT DATA/climate.txt')"
   ]
  },
  {
   "cell_type": "code",
   "execution_count": null,
   "id": "f25165e2",
   "metadata": {},
   "outputs": [],
   "source": [
    "def parse_headers(header_line):\n",
    "    return header_line.strip().split(',')\n",
    "\n",
    "def parse_values(data_line):\n",
    "    values = []\n",
    "    for item in data_line.strip().split(','):\n",
    "        if item == '':\n",
    "            values.append(0.0)\n",
    "        else:\n",
    "            values.append(float(item))\n",
    "    return values\n",
    "\n",
    "def create_item_dict(values,headers):\n",
    "    result = {}\n",
    "    for i,j in zip(values,headers):\n",
    "        result[j] = i\n",
    "    return result\n",
    "\n",
    "def read_csv(path):\n",
    "    result = []\n",
    "    \n",
    "    # Open file in read mode\n",
    "    with open(path,'r') as f:\n",
    "        \n",
    "        # Get a list of lines\n",
    "        lines = f.readlines()\n",
    "        \n",
    "        # Pharse the headers\n",
    "        headers = parse_headers(lines[0])\n",
    "        \n",
    "        # Loop over the remiainng lines\n",
    "        for data_line in lines[1:]:\n",
    "            \n",
    "            # Pharse the values\n",
    "            values = parse_values(data_line)\n",
    "            \n",
    "            # Create a dictionary using values and headers\n",
    "            item_dict = create_item_dict(values,headers)\n",
    "            \n",
    "            #Add the dicitonary to the result\n",
    "            result.append(item_dict)\n",
    "            \n",
    "    return result"
   ]
  },
  {
   "cell_type": "code",
   "execution_count": null,
   "id": "fcf8fc81",
   "metadata": {},
   "outputs": [],
   "source": [
    "import math\n",
    "\n",
    "def loan_emi(amount,duration,rate,down_payment=0):\n",
    "    '''This function calculates the Equal Monthly Installement (EMI) for a loan.\n",
    "    \n",
    "    Arguments:\n",
    "    Amount = Total amount to be spent (loan + down payment)\n",
    "    Duration = Duration of the loan (in month)\n",
    "    Rate = Rate of inerest (monthly)\n",
    "    Down payment (Optional) = Optional intial payment\n",
    "    '''\n",
    "    \n",
    "    loan_amount = amount - down_payment\n",
    "    try:\n",
    "        emi = round(loan_amount * rate * ((1 + rate) ** duration) / (((1 + rate) ** duration) - 1))\n",
    "    except ZeroDivisionError:\n",
    "        emi = round(loan_amount / duration)\n",
    "    return emi"
   ]
  },
  {
   "cell_type": "code",
   "execution_count": null,
   "id": "362a42ee",
   "metadata": {},
   "outputs": [],
   "source": [
    "df = read_csv('./DATA/TEXT DATA/climate.txt')"
   ]
  },
  {
   "cell_type": "code",
   "execution_count": null,
   "id": "c480d43e",
   "metadata": {},
   "outputs": [],
   "source": [
    "df"
   ]
  },
  {
   "cell_type": "code",
   "execution_count": null,
   "id": "76f6c005",
   "metadata": {},
   "outputs": [],
   "source": [
    "for loan in df:\n",
    "    loan['emi'] = loan_emi(loan['amount'],\n",
    "                           loan['duration'],\n",
    "                           loan['rate'],\n",
    "                           loan['down_payment'])"
   ]
  },
  {
   "cell_type": "code",
   "execution_count": null,
   "id": "876da1e8",
   "metadata": {},
   "outputs": [],
   "source": [
    "df"
   ]
  },
  {
   "cell_type": "code",
   "execution_count": null,
   "id": "28323636",
   "metadata": {},
   "outputs": [],
   "source": [
    "def compute_emis(loans):\n",
    "    for loan in loans:\n",
    "        loan['emi'] = loan_emi(loan['amount'],\n",
    "                           loan['duration'],\n",
    "                           loan['rate'],\n",
    "                           loan['down_payment'])"
   ]
  },
  {
   "cell_type": "code",
   "execution_count": null,
   "id": "408341a2",
   "metadata": {
    "scrolled": false
   },
   "outputs": [],
   "source": [
    "compute_emis(df)"
   ]
  },
  {
   "cell_type": "code",
   "execution_count": null,
   "id": "84b41d46",
   "metadata": {},
   "outputs": [],
   "source": [
    "df"
   ]
  },
  {
   "cell_type": "code",
   "execution_count": null,
   "id": "8f92ed4d",
   "metadata": {},
   "outputs": [],
   "source": [
    "with open('./DATA/TEXT DATA/emi.txt','w') as f:\n",
    "    for loan in df:\n",
    "        f.write ('{},{},{},{},{}\\n'.format(\n",
    "        loan['amount'],\n",
    "        loan['duration'],\n",
    "        loan['rate'],\n",
    "        loan['down_payment'],\n",
    "        loan['emi']))"
   ]
  },
  {
   "cell_type": "code",
   "execution_count": null,
   "id": "eef63dff",
   "metadata": {},
   "outputs": [],
   "source": [
    "os.listdir('./DATA/TEXT DATA')"
   ]
  },
  {
   "cell_type": "code",
   "execution_count": null,
   "id": "90c0a476",
   "metadata": {},
   "outputs": [],
   "source": [
    "with open('./DATA/TEXT DATA/emi.txt','r') as f:\n",
    "    print(f.read())"
   ]
  },
  {
   "cell_type": "code",
   "execution_count": null,
   "id": "8ed1eec0",
   "metadata": {},
   "outputs": [],
   "source": [
    "def write_csv(items,path):\n",
    "    \n",
    "    # Open the file in write moode\n",
    "    with open(path, 'w') as f:\n",
    "        \n",
    "        # Return if there's is nothing to write\n",
    "        if len(items) == 0:\n",
    "            return\n",
    "        \n",
    "        # Write the headers in the first line\n",
    "        headers = list(items[0].keys())\n",
    "        f.write(','.join(headers) + '\\n')\n",
    "        \n",
    "        # Write one item per line\n",
    "        for item in items:\n",
    "            values = []\n",
    "            for header in headers:\n",
    "                values.append(str(item.get(header,'')))\n",
    "            f.write(','.join(values) + '\\n')"
   ]
  },
  {
   "cell_type": "code",
   "execution_count": null,
   "id": "92a223fd",
   "metadata": {},
   "outputs": [],
   "source": [
    "compute_emis(df)"
   ]
  },
  {
   "cell_type": "code",
   "execution_count": null,
   "id": "15771d9d",
   "metadata": {},
   "outputs": [],
   "source": [
    "write_csv(df,'./DATA/TEXT DATA/emi.txt')"
   ]
  },
  {
   "cell_type": "code",
   "execution_count": null,
   "id": "51471ed0",
   "metadata": {
    "scrolled": true
   },
   "outputs": [],
   "source": [
    "with open('./DATA/TEXT DATA/emi.txt','r') as f:\n",
    "    print(f.read())"
   ]
  },
  {
   "cell_type": "markdown",
   "id": "b4948fee",
   "metadata": {},
   "source": [
    "## PART 4 0f 6"
   ]
  },
  {
   "cell_type": "code",
   "execution_count": 2,
   "id": "557eeeeb",
   "metadata": {},
   "outputs": [],
   "source": [
    "from urllib.request import urlretrieve"
   ]
  },
  {
   "cell_type": "code",
   "execution_count": 3,
   "id": "451c2211",
   "metadata": {},
   "outputs": [
    {
     "data": {
      "text/plain": [
       "('italy-covid-daywise.csv', <http.client.HTTPMessage at 0x26dfde8d3d0>)"
      ]
     },
     "execution_count": 3,
     "metadata": {},
     "output_type": "execute_result"
    }
   ],
   "source": [
    "italy_covid_url = 'https://gist.githubusercontent.com/aakashns/f6a004fa20c84fec53262f9a8bfee775/raw/f309558b1cf5103424cef58e2ecb8704dcd4d74c/italy-covid-daywise.csv'\n",
    "\n",
    "urlretrieve(italy_covid_url, 'italy-covid-daywise.csv')"
   ]
  },
  {
   "cell_type": "code",
   "execution_count": 4,
   "id": "31e4576f",
   "metadata": {},
   "outputs": [],
   "source": [
    "import pandas as pd"
   ]
  },
  {
   "cell_type": "code",
   "execution_count": 5,
   "id": "a9e30aab",
   "metadata": {},
   "outputs": [],
   "source": [
    "covid_df = pd.read_csv('italy-covid-daywise.csv')"
   ]
  },
  {
   "cell_type": "code",
   "execution_count": 6,
   "id": "36e95637",
   "metadata": {
    "scrolled": true
   },
   "outputs": [
    {
     "name": "stdout",
     "output_type": "stream",
     "text": [
      "<class 'pandas.core.frame.DataFrame'>\n",
      "RangeIndex: 248 entries, 0 to 247\n",
      "Data columns (total 4 columns):\n",
      " #   Column      Non-Null Count  Dtype  \n",
      "---  ------      --------------  -----  \n",
      " 0   date        248 non-null    object \n",
      " 1   new_cases   248 non-null    float64\n",
      " 2   new_deaths  248 non-null    float64\n",
      " 3   new_tests   135 non-null    float64\n",
      "dtypes: float64(3), object(1)\n",
      "memory usage: 7.9+ KB\n"
     ]
    }
   ],
   "source": [
    "covid_df.info()\n",
    "# The information is called meta information."
   ]
  },
  {
   "cell_type": "code",
   "execution_count": 7,
   "id": "8950249e",
   "metadata": {},
   "outputs": [
    {
     "data": {
      "text/html": [
       "<div>\n",
       "<style scoped>\n",
       "    .dataframe tbody tr th:only-of-type {\n",
       "        vertical-align: middle;\n",
       "    }\n",
       "\n",
       "    .dataframe tbody tr th {\n",
       "        vertical-align: top;\n",
       "    }\n",
       "\n",
       "    .dataframe thead th {\n",
       "        text-align: right;\n",
       "    }\n",
       "</style>\n",
       "<table border=\"1\" class=\"dataframe\">\n",
       "  <thead>\n",
       "    <tr style=\"text-align: right;\">\n",
       "      <th></th>\n",
       "      <th>new_cases</th>\n",
       "      <th>new_deaths</th>\n",
       "      <th>new_tests</th>\n",
       "    </tr>\n",
       "  </thead>\n",
       "  <tbody>\n",
       "    <tr>\n",
       "      <th>count</th>\n",
       "      <td>248.000000</td>\n",
       "      <td>248.000000</td>\n",
       "      <td>135.000000</td>\n",
       "    </tr>\n",
       "    <tr>\n",
       "      <th>mean</th>\n",
       "      <td>1094.818548</td>\n",
       "      <td>143.133065</td>\n",
       "      <td>31699.674074</td>\n",
       "    </tr>\n",
       "    <tr>\n",
       "      <th>std</th>\n",
       "      <td>1554.508002</td>\n",
       "      <td>227.105538</td>\n",
       "      <td>11622.209757</td>\n",
       "    </tr>\n",
       "    <tr>\n",
       "      <th>min</th>\n",
       "      <td>-148.000000</td>\n",
       "      <td>-31.000000</td>\n",
       "      <td>7841.000000</td>\n",
       "    </tr>\n",
       "    <tr>\n",
       "      <th>25%</th>\n",
       "      <td>123.000000</td>\n",
       "      <td>3.000000</td>\n",
       "      <td>25259.000000</td>\n",
       "    </tr>\n",
       "    <tr>\n",
       "      <th>50%</th>\n",
       "      <td>342.000000</td>\n",
       "      <td>17.000000</td>\n",
       "      <td>29545.000000</td>\n",
       "    </tr>\n",
       "    <tr>\n",
       "      <th>75%</th>\n",
       "      <td>1371.750000</td>\n",
       "      <td>175.250000</td>\n",
       "      <td>37711.000000</td>\n",
       "    </tr>\n",
       "    <tr>\n",
       "      <th>max</th>\n",
       "      <td>6557.000000</td>\n",
       "      <td>971.000000</td>\n",
       "      <td>95273.000000</td>\n",
       "    </tr>\n",
       "  </tbody>\n",
       "</table>\n",
       "</div>"
      ],
      "text/plain": [
       "         new_cases  new_deaths     new_tests\n",
       "count   248.000000  248.000000    135.000000\n",
       "mean   1094.818548  143.133065  31699.674074\n",
       "std    1554.508002  227.105538  11622.209757\n",
       "min    -148.000000  -31.000000   7841.000000\n",
       "25%     123.000000    3.000000  25259.000000\n",
       "50%     342.000000   17.000000  29545.000000\n",
       "75%    1371.750000  175.250000  37711.000000\n",
       "max    6557.000000  971.000000  95273.000000"
      ]
     },
     "execution_count": 7,
     "metadata": {},
     "output_type": "execute_result"
    }
   ],
   "source": [
    "covid_df.describe()"
   ]
  },
  {
   "cell_type": "code",
   "execution_count": 8,
   "id": "c4cc9e3b",
   "metadata": {},
   "outputs": [
    {
     "data": {
      "text/plain": [
       "Index(['date', 'new_cases', 'new_deaths', 'new_tests'], dtype='object')"
      ]
     },
     "execution_count": 8,
     "metadata": {},
     "output_type": "execute_result"
    }
   ],
   "source": [
    "covid_df.columns"
   ]
  },
  {
   "cell_type": "code",
   "execution_count": 9,
   "id": "4354aba5",
   "metadata": {},
   "outputs": [
    {
     "data": {
      "text/plain": [
       "(248, 4)"
      ]
     },
     "execution_count": 9,
     "metadata": {},
     "output_type": "execute_result"
    }
   ],
   "source": [
    "covid_df.shape"
   ]
  },
  {
   "cell_type": "code",
   "execution_count": 14,
   "id": "58c81c68",
   "metadata": {
    "scrolled": true
   },
   "outputs": [
    {
     "data": {
      "text/plain": [
       "0         0.0\n",
       "1         0.0\n",
       "2         0.0\n",
       "3         0.0\n",
       "4         0.0\n",
       "        ...  \n",
       "243    1444.0\n",
       "244    1365.0\n",
       "245     996.0\n",
       "246     975.0\n",
       "247    1326.0\n",
       "Name: new_cases, Length: 248, dtype: float64"
      ]
     },
     "execution_count": 14,
     "metadata": {},
     "output_type": "execute_result"
    }
   ],
   "source": [
    "# Retrieving data\n",
    "covid_df['new_cases']"
   ]
  },
  {
   "cell_type": "code",
   "execution_count": 17,
   "id": "0c20487f",
   "metadata": {},
   "outputs": [
    {
     "data": {
      "text/plain": [
       "996.0"
      ]
     },
     "execution_count": 17,
     "metadata": {},
     "output_type": "execute_result"
    }
   ],
   "source": [
    "covid_df['new_cases'][245]"
   ]
  },
  {
   "cell_type": "code",
   "execution_count": 18,
   "id": "4236f7ec",
   "metadata": {},
   "outputs": [
    {
     "data": {
      "text/plain": [
       "996.0"
      ]
     },
     "execution_count": 18,
     "metadata": {},
     "output_type": "execute_result"
    }
   ],
   "source": [
    "# Alternative of covid_df['new_cases'][245]\n",
    "covid_df.at[245,'new_cases']"
   ]
  },
  {
   "cell_type": "code",
   "execution_count": 32,
   "id": "3fa2f458",
   "metadata": {},
   "outputs": [
    {
     "data": {
      "text/plain": [
       "0         0.0\n",
       "1         0.0\n",
       "2         0.0\n",
       "3         0.0\n",
       "4         0.0\n",
       "        ...  \n",
       "243    1444.0\n",
       "244    1365.0\n",
       "245     996.0\n",
       "246     975.0\n",
       "247    1326.0\n",
       "Name: new_cases, Length: 248, dtype: float64"
      ]
     },
     "execution_count": 32,
     "metadata": {},
     "output_type": "execute_result"
    }
   ],
   "source": [
    "# Alternative of covid_df['new_cases']\n",
    "covid_df.new_cases"
   ]
  },
  {
   "cell_type": "code",
   "execution_count": 24,
   "id": "bc5708d5",
   "metadata": {},
   "outputs": [
    {
     "data": {
      "text/html": [
       "<div>\n",
       "<style scoped>\n",
       "    .dataframe tbody tr th:only-of-type {\n",
       "        vertical-align: middle;\n",
       "    }\n",
       "\n",
       "    .dataframe tbody tr th {\n",
       "        vertical-align: top;\n",
       "    }\n",
       "\n",
       "    .dataframe thead th {\n",
       "        text-align: right;\n",
       "    }\n",
       "</style>\n",
       "<table border=\"1\" class=\"dataframe\">\n",
       "  <thead>\n",
       "    <tr style=\"text-align: right;\">\n",
       "      <th></th>\n",
       "      <th>date</th>\n",
       "      <th>new_cases</th>\n",
       "    </tr>\n",
       "  </thead>\n",
       "  <tbody>\n",
       "    <tr>\n",
       "      <th>0</th>\n",
       "      <td>2019-12-31</td>\n",
       "      <td>0.0</td>\n",
       "    </tr>\n",
       "    <tr>\n",
       "      <th>1</th>\n",
       "      <td>2020-01-01</td>\n",
       "      <td>0.0</td>\n",
       "    </tr>\n",
       "    <tr>\n",
       "      <th>2</th>\n",
       "      <td>2020-01-02</td>\n",
       "      <td>0.0</td>\n",
       "    </tr>\n",
       "    <tr>\n",
       "      <th>3</th>\n",
       "      <td>2020-01-03</td>\n",
       "      <td>0.0</td>\n",
       "    </tr>\n",
       "    <tr>\n",
       "      <th>4</th>\n",
       "      <td>2020-01-04</td>\n",
       "      <td>0.0</td>\n",
       "    </tr>\n",
       "    <tr>\n",
       "      <th>...</th>\n",
       "      <td>...</td>\n",
       "      <td>...</td>\n",
       "    </tr>\n",
       "    <tr>\n",
       "      <th>243</th>\n",
       "      <td>2020-08-30</td>\n",
       "      <td>1444.0</td>\n",
       "    </tr>\n",
       "    <tr>\n",
       "      <th>244</th>\n",
       "      <td>2020-08-31</td>\n",
       "      <td>1365.0</td>\n",
       "    </tr>\n",
       "    <tr>\n",
       "      <th>245</th>\n",
       "      <td>2020-09-01</td>\n",
       "      <td>996.0</td>\n",
       "    </tr>\n",
       "    <tr>\n",
       "      <th>246</th>\n",
       "      <td>2020-09-02</td>\n",
       "      <td>975.0</td>\n",
       "    </tr>\n",
       "    <tr>\n",
       "      <th>247</th>\n",
       "      <td>2020-09-03</td>\n",
       "      <td>1326.0</td>\n",
       "    </tr>\n",
       "  </tbody>\n",
       "</table>\n",
       "<p>248 rows × 2 columns</p>\n",
       "</div>"
      ],
      "text/plain": [
       "           date  new_cases\n",
       "0    2019-12-31        0.0\n",
       "1    2020-01-01        0.0\n",
       "2    2020-01-02        0.0\n",
       "3    2020-01-03        0.0\n",
       "4    2020-01-04        0.0\n",
       "..          ...        ...\n",
       "243  2020-08-30     1444.0\n",
       "244  2020-08-31     1365.0\n",
       "245  2020-09-01      996.0\n",
       "246  2020-09-02      975.0\n",
       "247  2020-09-03     1326.0\n",
       "\n",
       "[248 rows x 2 columns]"
      ]
     },
     "execution_count": 24,
     "metadata": {},
     "output_type": "execute_result"
    }
   ],
   "source": [
    "covid_df[['date','new_cases']]"
   ]
  },
  {
   "cell_type": "code",
   "execution_count": 25,
   "id": "b2f70e38",
   "metadata": {},
   "outputs": [
    {
     "data": {
      "text/html": [
       "<div>\n",
       "<style scoped>\n",
       "    .dataframe tbody tr th:only-of-type {\n",
       "        vertical-align: middle;\n",
       "    }\n",
       "\n",
       "    .dataframe tbody tr th {\n",
       "        vertical-align: top;\n",
       "    }\n",
       "\n",
       "    .dataframe thead th {\n",
       "        text-align: right;\n",
       "    }\n",
       "</style>\n",
       "<table border=\"1\" class=\"dataframe\">\n",
       "  <thead>\n",
       "    <tr style=\"text-align: right;\">\n",
       "      <th></th>\n",
       "      <th>date</th>\n",
       "      <th>new_cases</th>\n",
       "      <th>new_deaths</th>\n",
       "      <th>new_tests</th>\n",
       "    </tr>\n",
       "  </thead>\n",
       "  <tbody>\n",
       "    <tr>\n",
       "      <th>0</th>\n",
       "      <td>2019-12-31</td>\n",
       "      <td>0.0</td>\n",
       "      <td>0.0</td>\n",
       "      <td>NaN</td>\n",
       "    </tr>\n",
       "    <tr>\n",
       "      <th>1</th>\n",
       "      <td>2020-01-01</td>\n",
       "      <td>0.0</td>\n",
       "      <td>0.0</td>\n",
       "      <td>NaN</td>\n",
       "    </tr>\n",
       "    <tr>\n",
       "      <th>2</th>\n",
       "      <td>2020-01-02</td>\n",
       "      <td>0.0</td>\n",
       "      <td>0.0</td>\n",
       "      <td>NaN</td>\n",
       "    </tr>\n",
       "    <tr>\n",
       "      <th>3</th>\n",
       "      <td>2020-01-03</td>\n",
       "      <td>0.0</td>\n",
       "      <td>0.0</td>\n",
       "      <td>NaN</td>\n",
       "    </tr>\n",
       "    <tr>\n",
       "      <th>4</th>\n",
       "      <td>2020-01-04</td>\n",
       "      <td>0.0</td>\n",
       "      <td>0.0</td>\n",
       "      <td>NaN</td>\n",
       "    </tr>\n",
       "    <tr>\n",
       "      <th>...</th>\n",
       "      <td>...</td>\n",
       "      <td>...</td>\n",
       "      <td>...</td>\n",
       "      <td>...</td>\n",
       "    </tr>\n",
       "    <tr>\n",
       "      <th>243</th>\n",
       "      <td>2020-08-30</td>\n",
       "      <td>1444.0</td>\n",
       "      <td>1.0</td>\n",
       "      <td>53541.0</td>\n",
       "    </tr>\n",
       "    <tr>\n",
       "      <th>244</th>\n",
       "      <td>2020-08-31</td>\n",
       "      <td>1365.0</td>\n",
       "      <td>4.0</td>\n",
       "      <td>42583.0</td>\n",
       "    </tr>\n",
       "    <tr>\n",
       "      <th>245</th>\n",
       "      <td>2020-09-01</td>\n",
       "      <td>996.0</td>\n",
       "      <td>6.0</td>\n",
       "      <td>54395.0</td>\n",
       "    </tr>\n",
       "    <tr>\n",
       "      <th>246</th>\n",
       "      <td>2020-09-02</td>\n",
       "      <td>975.0</td>\n",
       "      <td>8.0</td>\n",
       "      <td>NaN</td>\n",
       "    </tr>\n",
       "    <tr>\n",
       "      <th>247</th>\n",
       "      <td>2020-09-03</td>\n",
       "      <td>1326.0</td>\n",
       "      <td>6.0</td>\n",
       "      <td>NaN</td>\n",
       "    </tr>\n",
       "  </tbody>\n",
       "</table>\n",
       "<p>248 rows × 4 columns</p>\n",
       "</div>"
      ],
      "text/plain": [
       "           date  new_cases  new_deaths  new_tests\n",
       "0    2019-12-31        0.0         0.0        NaN\n",
       "1    2020-01-01        0.0         0.0        NaN\n",
       "2    2020-01-02        0.0         0.0        NaN\n",
       "3    2020-01-03        0.0         0.0        NaN\n",
       "4    2020-01-04        0.0         0.0        NaN\n",
       "..          ...        ...         ...        ...\n",
       "243  2020-08-30     1444.0         1.0    53541.0\n",
       "244  2020-08-31     1365.0         4.0    42583.0\n",
       "245  2020-09-01      996.0         6.0    54395.0\n",
       "246  2020-09-02      975.0         8.0        NaN\n",
       "247  2020-09-03     1326.0         6.0        NaN\n",
       "\n",
       "[248 rows x 4 columns]"
      ]
     },
     "execution_count": 25,
     "metadata": {},
     "output_type": "execute_result"
    }
   ],
   "source": [
    "covid_df"
   ]
  },
  {
   "cell_type": "code",
   "execution_count": 26,
   "id": "e929fd11",
   "metadata": {},
   "outputs": [],
   "source": [
    "covid_df_copy = covid_df.copy()"
   ]
  },
  {
   "cell_type": "code",
   "execution_count": 28,
   "id": "2d2afce5",
   "metadata": {},
   "outputs": [
    {
     "data": {
      "text/html": [
       "<div>\n",
       "<style scoped>\n",
       "    .dataframe tbody tr th:only-of-type {\n",
       "        vertical-align: middle;\n",
       "    }\n",
       "\n",
       "    .dataframe tbody tr th {\n",
       "        vertical-align: top;\n",
       "    }\n",
       "\n",
       "    .dataframe thead th {\n",
       "        text-align: right;\n",
       "    }\n",
       "</style>\n",
       "<table border=\"1\" class=\"dataframe\">\n",
       "  <thead>\n",
       "    <tr style=\"text-align: right;\">\n",
       "      <th></th>\n",
       "      <th>date</th>\n",
       "      <th>new_cases</th>\n",
       "      <th>new_deaths</th>\n",
       "      <th>new_tests</th>\n",
       "    </tr>\n",
       "  </thead>\n",
       "  <tbody>\n",
       "    <tr>\n",
       "      <th>0</th>\n",
       "      <td>2019-12-31</td>\n",
       "      <td>0.0</td>\n",
       "      <td>0.0</td>\n",
       "      <td>NaN</td>\n",
       "    </tr>\n",
       "    <tr>\n",
       "      <th>1</th>\n",
       "      <td>2020-01-01</td>\n",
       "      <td>0.0</td>\n",
       "      <td>0.0</td>\n",
       "      <td>NaN</td>\n",
       "    </tr>\n",
       "    <tr>\n",
       "      <th>2</th>\n",
       "      <td>2020-01-02</td>\n",
       "      <td>0.0</td>\n",
       "      <td>0.0</td>\n",
       "      <td>NaN</td>\n",
       "    </tr>\n",
       "    <tr>\n",
       "      <th>3</th>\n",
       "      <td>2020-01-03</td>\n",
       "      <td>0.0</td>\n",
       "      <td>0.0</td>\n",
       "      <td>NaN</td>\n",
       "    </tr>\n",
       "    <tr>\n",
       "      <th>4</th>\n",
       "      <td>2020-01-04</td>\n",
       "      <td>0.0</td>\n",
       "      <td>0.0</td>\n",
       "      <td>NaN</td>\n",
       "    </tr>\n",
       "    <tr>\n",
       "      <th>...</th>\n",
       "      <td>...</td>\n",
       "      <td>...</td>\n",
       "      <td>...</td>\n",
       "      <td>...</td>\n",
       "    </tr>\n",
       "    <tr>\n",
       "      <th>243</th>\n",
       "      <td>2020-08-30</td>\n",
       "      <td>1444.0</td>\n",
       "      <td>1.0</td>\n",
       "      <td>53541.0</td>\n",
       "    </tr>\n",
       "    <tr>\n",
       "      <th>244</th>\n",
       "      <td>2020-08-31</td>\n",
       "      <td>1365.0</td>\n",
       "      <td>4.0</td>\n",
       "      <td>42583.0</td>\n",
       "    </tr>\n",
       "    <tr>\n",
       "      <th>245</th>\n",
       "      <td>2020-09-01</td>\n",
       "      <td>996.0</td>\n",
       "      <td>6.0</td>\n",
       "      <td>54395.0</td>\n",
       "    </tr>\n",
       "    <tr>\n",
       "      <th>246</th>\n",
       "      <td>2020-09-02</td>\n",
       "      <td>975.0</td>\n",
       "      <td>8.0</td>\n",
       "      <td>NaN</td>\n",
       "    </tr>\n",
       "    <tr>\n",
       "      <th>247</th>\n",
       "      <td>2020-09-03</td>\n",
       "      <td>1326.0</td>\n",
       "      <td>6.0</td>\n",
       "      <td>NaN</td>\n",
       "    </tr>\n",
       "  </tbody>\n",
       "</table>\n",
       "<p>248 rows × 4 columns</p>\n",
       "</div>"
      ],
      "text/plain": [
       "           date  new_cases  new_deaths  new_tests\n",
       "0    2019-12-31        0.0         0.0        NaN\n",
       "1    2020-01-01        0.0         0.0        NaN\n",
       "2    2020-01-02        0.0         0.0        NaN\n",
       "3    2020-01-03        0.0         0.0        NaN\n",
       "4    2020-01-04        0.0         0.0        NaN\n",
       "..          ...        ...         ...        ...\n",
       "243  2020-08-30     1444.0         1.0    53541.0\n",
       "244  2020-08-31     1365.0         4.0    42583.0\n",
       "245  2020-09-01      996.0         6.0    54395.0\n",
       "246  2020-09-02      975.0         8.0        NaN\n",
       "247  2020-09-03     1326.0         6.0        NaN\n",
       "\n",
       "[248 rows x 4 columns]"
      ]
     },
     "execution_count": 28,
     "metadata": {},
     "output_type": "execute_result"
    }
   ],
   "source": [
    "covid_df"
   ]
  },
  {
   "cell_type": "code",
   "execution_count": 39,
   "id": "83a2195b",
   "metadata": {},
   "outputs": [
    {
     "data": {
      "text/plain": [
       "date          2020-01-01\n",
       "new_cases            0.0\n",
       "new_deaths           0.0\n",
       "new_tests            NaN\n",
       "Name: 1, dtype: object"
      ]
     },
     "execution_count": 39,
     "metadata": {},
     "output_type": "execute_result"
    }
   ],
   "source": [
    "covid_df.loc[1]"
   ]
  },
  {
   "cell_type": "code",
   "execution_count": 40,
   "id": "8b47522e",
   "metadata": {},
   "outputs": [
    {
     "data": {
      "text/plain": [
       "111"
      ]
     },
     "execution_count": 40,
     "metadata": {},
     "output_type": "execute_result"
    }
   ],
   "source": [
    "covid_df.new_tests.first_valid_index()"
   ]
  },
  {
   "cell_type": "code",
   "execution_count": 43,
   "id": "6a85c65f",
   "metadata": {},
   "outputs": [
    {
     "data": {
      "text/html": [
       "<div>\n",
       "<style scoped>\n",
       "    .dataframe tbody tr th:only-of-type {\n",
       "        vertical-align: middle;\n",
       "    }\n",
       "\n",
       "    .dataframe tbody tr th {\n",
       "        vertical-align: top;\n",
       "    }\n",
       "\n",
       "    .dataframe thead th {\n",
       "        text-align: right;\n",
       "    }\n",
       "</style>\n",
       "<table border=\"1\" class=\"dataframe\">\n",
       "  <thead>\n",
       "    <tr style=\"text-align: right;\">\n",
       "      <th></th>\n",
       "      <th>date</th>\n",
       "      <th>new_cases</th>\n",
       "      <th>new_deaths</th>\n",
       "      <th>new_tests</th>\n",
       "    </tr>\n",
       "  </thead>\n",
       "  <tbody>\n",
       "    <tr>\n",
       "      <th>108</th>\n",
       "      <td>2020-04-17</td>\n",
       "      <td>3786.0</td>\n",
       "      <td>525.0</td>\n",
       "      <td>NaN</td>\n",
       "    </tr>\n",
       "    <tr>\n",
       "      <th>109</th>\n",
       "      <td>2020-04-18</td>\n",
       "      <td>3493.0</td>\n",
       "      <td>575.0</td>\n",
       "      <td>NaN</td>\n",
       "    </tr>\n",
       "    <tr>\n",
       "      <th>110</th>\n",
       "      <td>2020-04-19</td>\n",
       "      <td>3491.0</td>\n",
       "      <td>480.0</td>\n",
       "      <td>NaN</td>\n",
       "    </tr>\n",
       "    <tr>\n",
       "      <th>111</th>\n",
       "      <td>2020-04-20</td>\n",
       "      <td>3047.0</td>\n",
       "      <td>433.0</td>\n",
       "      <td>7841.0</td>\n",
       "    </tr>\n",
       "    <tr>\n",
       "      <th>112</th>\n",
       "      <td>2020-04-21</td>\n",
       "      <td>2256.0</td>\n",
       "      <td>454.0</td>\n",
       "      <td>28095.0</td>\n",
       "    </tr>\n",
       "    <tr>\n",
       "      <th>113</th>\n",
       "      <td>2020-04-22</td>\n",
       "      <td>2729.0</td>\n",
       "      <td>534.0</td>\n",
       "      <td>44248.0</td>\n",
       "    </tr>\n",
       "  </tbody>\n",
       "</table>\n",
       "</div>"
      ],
      "text/plain": [
       "           date  new_cases  new_deaths  new_tests\n",
       "108  2020-04-17     3786.0       525.0        NaN\n",
       "109  2020-04-18     3493.0       575.0        NaN\n",
       "110  2020-04-19     3491.0       480.0        NaN\n",
       "111  2020-04-20     3047.0       433.0     7841.0\n",
       "112  2020-04-21     2256.0       454.0    28095.0\n",
       "113  2020-04-22     2729.0       534.0    44248.0"
      ]
     },
     "execution_count": 43,
     "metadata": {},
     "output_type": "execute_result"
    }
   ],
   "source": [
    "covid_df.loc[108:113]"
   ]
  },
  {
   "cell_type": "code",
   "execution_count": 49,
   "id": "2ca657ee",
   "metadata": {},
   "outputs": [
    {
     "data": {
      "text/html": [
       "<div>\n",
       "<style scoped>\n",
       "    .dataframe tbody tr th:only-of-type {\n",
       "        vertical-align: middle;\n",
       "    }\n",
       "\n",
       "    .dataframe tbody tr th {\n",
       "        vertical-align: top;\n",
       "    }\n",
       "\n",
       "    .dataframe thead th {\n",
       "        text-align: right;\n",
       "    }\n",
       "</style>\n",
       "<table border=\"1\" class=\"dataframe\">\n",
       "  <thead>\n",
       "    <tr style=\"text-align: right;\">\n",
       "      <th></th>\n",
       "      <th>date</th>\n",
       "      <th>new_cases</th>\n",
       "      <th>new_deaths</th>\n",
       "      <th>new_tests</th>\n",
       "    </tr>\n",
       "  </thead>\n",
       "  <tbody>\n",
       "    <tr>\n",
       "      <th>153</th>\n",
       "      <td>2020-06-01</td>\n",
       "      <td>355.0</td>\n",
       "      <td>75.0</td>\n",
       "      <td>18053.0</td>\n",
       "    </tr>\n",
       "    <tr>\n",
       "      <th>127</th>\n",
       "      <td>2020-05-06</td>\n",
       "      <td>1075.0</td>\n",
       "      <td>236.0</td>\n",
       "      <td>37771.0</td>\n",
       "    </tr>\n",
       "    <tr>\n",
       "      <th>120</th>\n",
       "      <td>2020-04-29</td>\n",
       "      <td>2091.0</td>\n",
       "      <td>382.0</td>\n",
       "      <td>38589.0</td>\n",
       "    </tr>\n",
       "    <tr>\n",
       "      <th>87</th>\n",
       "      <td>2020-03-27</td>\n",
       "      <td>6153.0</td>\n",
       "      <td>660.0</td>\n",
       "      <td>NaN</td>\n",
       "    </tr>\n",
       "    <tr>\n",
       "      <th>95</th>\n",
       "      <td>2020-04-04</td>\n",
       "      <td>4585.0</td>\n",
       "      <td>764.0</td>\n",
       "      <td>NaN</td>\n",
       "    </tr>\n",
       "    <tr>\n",
       "      <th>170</th>\n",
       "      <td>2020-06-18</td>\n",
       "      <td>328.0</td>\n",
       "      <td>43.0</td>\n",
       "      <td>32921.0</td>\n",
       "    </tr>\n",
       "    <tr>\n",
       "      <th>211</th>\n",
       "      <td>2020-07-29</td>\n",
       "      <td>202.0</td>\n",
       "      <td>11.0</td>\n",
       "      <td>30875.0</td>\n",
       "    </tr>\n",
       "    <tr>\n",
       "      <th>26</th>\n",
       "      <td>2020-01-26</td>\n",
       "      <td>0.0</td>\n",
       "      <td>0.0</td>\n",
       "      <td>NaN</td>\n",
       "    </tr>\n",
       "    <tr>\n",
       "      <th>186</th>\n",
       "      <td>2020-07-04</td>\n",
       "      <td>223.0</td>\n",
       "      <td>15.0</td>\n",
       "      <td>28946.0</td>\n",
       "    </tr>\n",
       "    <tr>\n",
       "      <th>5</th>\n",
       "      <td>2020-01-05</td>\n",
       "      <td>0.0</td>\n",
       "      <td>0.0</td>\n",
       "      <td>NaN</td>\n",
       "    </tr>\n",
       "  </tbody>\n",
       "</table>\n",
       "</div>"
      ],
      "text/plain": [
       "           date  new_cases  new_deaths  new_tests\n",
       "153  2020-06-01      355.0        75.0    18053.0\n",
       "127  2020-05-06     1075.0       236.0    37771.0\n",
       "120  2020-04-29     2091.0       382.0    38589.0\n",
       "87   2020-03-27     6153.0       660.0        NaN\n",
       "95   2020-04-04     4585.0       764.0        NaN\n",
       "170  2020-06-18      328.0        43.0    32921.0\n",
       "211  2020-07-29      202.0        11.0    30875.0\n",
       "26   2020-01-26        0.0         0.0        NaN\n",
       "186  2020-07-04      223.0        15.0    28946.0\n",
       "5    2020-01-05        0.0         0.0        NaN"
      ]
     },
     "execution_count": 49,
     "metadata": {},
     "output_type": "execute_result"
    }
   ],
   "source": [
    "covid_df.sample(10)"
   ]
  },
  {
   "cell_type": "markdown",
   "id": "7010c482",
   "metadata": {},
   "source": [
    "## Analysing data:"
   ]
  },
  {
   "cell_type": "markdown",
   "id": "0f380de4",
   "metadata": {},
   "source": [
    "Q. What is the total number of reported new cases and new deaths?"
   ]
  },
  {
   "cell_type": "code",
   "execution_count": 80,
   "id": "27b659e3",
   "metadata": {},
   "outputs": [
    {
     "name": "stdout",
     "output_type": "stream",
     "text": [
      "The number of reported new cases is 271515.0 and number of reportes new deaths is 35497.0.\n"
     ]
    }
   ],
   "source": [
    "total_cases = covid_df.new_cases.sum()\n",
    "total_deaths = covid_df.new_deaths.sum()\n",
    "print('The number of reported new cases is {} and number of reportes new deaths is {}.'.format(total_cases,total_deaths))"
   ]
  },
  {
   "cell_type": "markdown",
   "id": "3a79da0c",
   "metadata": {},
   "source": [
    "Q. What is overall death rate (ratio of reported new deaths to new cases)?"
   ]
  },
  {
   "cell_type": "code",
   "execution_count": 85,
   "id": "13394602",
   "metadata": {},
   "outputs": [
    {
     "name": "stdout",
     "output_type": "stream",
     "text": [
      "The overall death rate (ratio of reported new deaths to new cases) is 13.07%.\n"
     ]
    }
   ],
   "source": [
    "death_rate = (covid_df.new_deaths.sum() / covid_df.new_cases.sum()) * 100\n",
    "print('The overall death rate (ratio of reported new deaths to new cases) is {:.2f}%.'.format(death_rate))"
   ]
  },
  {
   "cell_type": "markdown",
   "id": "a5a41918",
   "metadata": {},
   "source": [
    "Q. What is the overall numbers of tests were conducted? A total of 935310 tests were conducted\n",
    "before daily tests numvers were being reporeted."
   ]
  },
  {
   "cell_type": "code",
   "execution_count": 92,
   "id": "1e4f21ec",
   "metadata": {},
   "outputs": [
    {
     "name": "stdout",
     "output_type": "stream",
     "text": [
      "The overall numbers of tests were conducted is 5214766.0.\n"
     ]
    }
   ],
   "source": [
    "initial_tests = 935310\n",
    "total_tests = initial_tests + covid_df.new_tests.sum()\n",
    "print('The overall numbers of tests were conducted is {}.'.format(total_tests))"
   ]
  },
  {
   "cell_type": "markdown",
   "id": "48f87507",
   "metadata": {},
   "source": [
    "Q. What fraction of tests returned a positive result?"
   ]
  },
  {
   "cell_type": "code",
   "execution_count": 94,
   "id": "d1b19f4f",
   "metadata": {},
   "outputs": [
    {
     "name": "stdout",
     "output_type": "stream",
     "text": [
      "5.21% of tests returned a positive result.\n"
     ]
    }
   ],
   "source": [
    "positive_results = (total_cases / total_tests) * 100\n",
    "print('{:.2f}% of tests returned a positive result.'.format(positive_results))"
   ]
  },
  {
   "cell_type": "code",
   "execution_count": null,
   "id": "00ab48f2",
   "metadata": {},
   "outputs": [],
   "source": []
  }
 ],
 "metadata": {
  "kernelspec": {
   "display_name": "Python 3 (ipykernel)",
   "language": "python",
   "name": "python3"
  },
  "language_info": {
   "codemirror_mode": {
    "name": "ipython",
    "version": 3
   },
   "file_extension": ".py",
   "mimetype": "text/x-python",
   "name": "python",
   "nbconvert_exporter": "python",
   "pygments_lexer": "ipython3",
   "version": "3.11.5"
  }
 },
 "nbformat": 4,
 "nbformat_minor": 5
}
